{
 "cells": [
  {
   "cell_type": "code",
   "execution_count": 1,
   "id": "661b2fd0",
   "metadata": {},
   "outputs": [
    {
     "name": "stdout",
     "output_type": "stream",
     "text": [
      "Requirement already satisfied: numpy in c:\\users\\dell\\anaconda3\\lib\\site-packages (1.24.3)\n"
     ]
    }
   ],
   "source": [
    "!pip install numpy"
   ]
  },
  {
   "cell_type": "code",
   "execution_count": 2,
   "id": "5f6adbbf",
   "metadata": {},
   "outputs": [
    {
     "name": "stdout",
     "output_type": "stream",
     "text": [
      "Requirement already satisfied: pandas in c:\\users\\dell\\anaconda3\\lib\\site-packages (2.0.3)\n",
      "Requirement already satisfied: python-dateutil>=2.8.2 in c:\\users\\dell\\anaconda3\\lib\\site-packages (from pandas) (2.8.2)\n",
      "Requirement already satisfied: pytz>=2020.1 in c:\\users\\dell\\anaconda3\\lib\\site-packages (from pandas) (2023.3.post1)\n",
      "Requirement already satisfied: tzdata>=2022.1 in c:\\users\\dell\\anaconda3\\lib\\site-packages (from pandas) (2023.3)\n",
      "Requirement already satisfied: numpy>=1.21.0 in c:\\users\\dell\\anaconda3\\lib\\site-packages (from pandas) (1.24.3)\n",
      "Requirement already satisfied: six>=1.5 in c:\\users\\dell\\anaconda3\\lib\\site-packages (from python-dateutil>=2.8.2->pandas) (1.16.0)\n"
     ]
    }
   ],
   "source": [
    "!pip install pandas"
   ]
  },
  {
   "cell_type": "code",
   "execution_count": 3,
   "id": "2def9596",
   "metadata": {},
   "outputs": [],
   "source": [
    "import numpy as np\n",
    "import pandas as pd"
   ]
  },
  {
   "cell_type": "code",
   "execution_count": 40,
   "id": "99d5cd73",
   "metadata": {},
   "outputs": [],
   "source": [
    "movieId=pd.read_csv(r\"C:\\Users\\DELL\\Downloads\\ml\\movies.csv\")"
   ]
  },
  {
   "cell_type": "code",
   "execution_count": 41,
   "id": "6b1a1d87",
   "metadata": {},
   "outputs": [
    {
     "data": {
      "text/html": [
       "<div>\n",
       "<style scoped>\n",
       "    .dataframe tbody tr th:only-of-type {\n",
       "        vertical-align: middle;\n",
       "    }\n",
       "\n",
       "    .dataframe tbody tr th {\n",
       "        vertical-align: top;\n",
       "    }\n",
       "\n",
       "    .dataframe thead th {\n",
       "        text-align: right;\n",
       "    }\n",
       "</style>\n",
       "<table border=\"1\" class=\"dataframe\">\n",
       "  <thead>\n",
       "    <tr style=\"text-align: right;\">\n",
       "      <th></th>\n",
       "      <th>movieId</th>\n",
       "      <th>title</th>\n",
       "      <th>genres</th>\n",
       "    </tr>\n",
       "  </thead>\n",
       "  <tbody>\n",
       "    <tr>\n",
       "      <th>0</th>\n",
       "      <td>1</td>\n",
       "      <td>Toy Story (1995)</td>\n",
       "      <td>Adventure|Animation|Children|Comedy|Fantasy</td>\n",
       "    </tr>\n",
       "    <tr>\n",
       "      <th>1</th>\n",
       "      <td>2</td>\n",
       "      <td>Jumanji (1995)</td>\n",
       "      <td>Adventure|Children|Fantasy</td>\n",
       "    </tr>\n",
       "    <tr>\n",
       "      <th>2</th>\n",
       "      <td>3</td>\n",
       "      <td>Grumpier Old Men (1995)</td>\n",
       "      <td>Comedy|Romance</td>\n",
       "    </tr>\n",
       "    <tr>\n",
       "      <th>3</th>\n",
       "      <td>4</td>\n",
       "      <td>Waiting to Exhale (1995)</td>\n",
       "      <td>Comedy|Drama|Romance</td>\n",
       "    </tr>\n",
       "    <tr>\n",
       "      <th>4</th>\n",
       "      <td>5</td>\n",
       "      <td>Father of the Bride Part II (1995)</td>\n",
       "      <td>Comedy</td>\n",
       "    </tr>\n",
       "    <tr>\n",
       "      <th>...</th>\n",
       "      <td>...</td>\n",
       "      <td>...</td>\n",
       "      <td>...</td>\n",
       "    </tr>\n",
       "    <tr>\n",
       "      <th>9737</th>\n",
       "      <td>193581</td>\n",
       "      <td>Black Butler: Book of the Atlantic (2017)</td>\n",
       "      <td>Action|Animation|Comedy|Fantasy</td>\n",
       "    </tr>\n",
       "    <tr>\n",
       "      <th>9738</th>\n",
       "      <td>193583</td>\n",
       "      <td>No Game No Life: Zero (2017)</td>\n",
       "      <td>Animation|Comedy|Fantasy</td>\n",
       "    </tr>\n",
       "    <tr>\n",
       "      <th>9739</th>\n",
       "      <td>193585</td>\n",
       "      <td>Flint (2017)</td>\n",
       "      <td>Drama</td>\n",
       "    </tr>\n",
       "    <tr>\n",
       "      <th>9740</th>\n",
       "      <td>193587</td>\n",
       "      <td>Bungo Stray Dogs: Dead Apple (2018)</td>\n",
       "      <td>Action|Animation</td>\n",
       "    </tr>\n",
       "    <tr>\n",
       "      <th>9741</th>\n",
       "      <td>193609</td>\n",
       "      <td>Andrew Dice Clay: Dice Rules (1991)</td>\n",
       "      <td>Comedy</td>\n",
       "    </tr>\n",
       "  </tbody>\n",
       "</table>\n",
       "<p>9742 rows × 3 columns</p>\n",
       "</div>"
      ],
      "text/plain": [
       "      movieId                                      title  \\\n",
       "0           1                           Toy Story (1995)   \n",
       "1           2                             Jumanji (1995)   \n",
       "2           3                    Grumpier Old Men (1995)   \n",
       "3           4                   Waiting to Exhale (1995)   \n",
       "4           5         Father of the Bride Part II (1995)   \n",
       "...       ...                                        ...   \n",
       "9737   193581  Black Butler: Book of the Atlantic (2017)   \n",
       "9738   193583               No Game No Life: Zero (2017)   \n",
       "9739   193585                               Flint (2017)   \n",
       "9740   193587        Bungo Stray Dogs: Dead Apple (2018)   \n",
       "9741   193609        Andrew Dice Clay: Dice Rules (1991)   \n",
       "\n",
       "                                           genres  \n",
       "0     Adventure|Animation|Children|Comedy|Fantasy  \n",
       "1                      Adventure|Children|Fantasy  \n",
       "2                                  Comedy|Romance  \n",
       "3                            Comedy|Drama|Romance  \n",
       "4                                          Comedy  \n",
       "...                                           ...  \n",
       "9737              Action|Animation|Comedy|Fantasy  \n",
       "9738                     Animation|Comedy|Fantasy  \n",
       "9739                                        Drama  \n",
       "9740                             Action|Animation  \n",
       "9741                                       Comedy  \n",
       "\n",
       "[9742 rows x 3 columns]"
      ]
     },
     "execution_count": 41,
     "metadata": {},
     "output_type": "execute_result"
    }
   ],
   "source": [
    "m"
   ]
  },
  {
   "cell_type": "code",
   "execution_count": 42,
   "id": "78727854",
   "metadata": {},
   "outputs": [
    {
     "data": {
      "text/plain": [
       "(9742, 3)"
      ]
     },
     "execution_count": 42,
     "metadata": {},
     "output_type": "execute_result"
    }
   ],
   "source": [
    "m.shape"
   ]
  },
  {
   "cell_type": "code",
   "execution_count": 43,
   "id": "ec369cdc",
   "metadata": {},
   "outputs": [],
   "source": [
    "rating=pd.read_csv(r\"C:\\Users\\DELL\\Downloads\\ml\\ratings.csv\")"
   ]
  },
  {
   "cell_type": "code",
   "execution_count": 44,
   "id": "ae1ea31c",
   "metadata": {},
   "outputs": [
    {
     "data": {
      "text/html": [
       "<div>\n",
       "<style scoped>\n",
       "    .dataframe tbody tr th:only-of-type {\n",
       "        vertical-align: middle;\n",
       "    }\n",
       "\n",
       "    .dataframe tbody tr th {\n",
       "        vertical-align: top;\n",
       "    }\n",
       "\n",
       "    .dataframe thead th {\n",
       "        text-align: right;\n",
       "    }\n",
       "</style>\n",
       "<table border=\"1\" class=\"dataframe\">\n",
       "  <thead>\n",
       "    <tr style=\"text-align: right;\">\n",
       "      <th></th>\n",
       "      <th>userId</th>\n",
       "      <th>movieId</th>\n",
       "      <th>rating</th>\n",
       "      <th>timestamp</th>\n",
       "    </tr>\n",
       "  </thead>\n",
       "  <tbody>\n",
       "    <tr>\n",
       "      <th>0</th>\n",
       "      <td>1</td>\n",
       "      <td>1</td>\n",
       "      <td>4.0</td>\n",
       "      <td>964982703</td>\n",
       "    </tr>\n",
       "    <tr>\n",
       "      <th>1</th>\n",
       "      <td>1</td>\n",
       "      <td>3</td>\n",
       "      <td>4.0</td>\n",
       "      <td>964981247</td>\n",
       "    </tr>\n",
       "    <tr>\n",
       "      <th>2</th>\n",
       "      <td>1</td>\n",
       "      <td>6</td>\n",
       "      <td>4.0</td>\n",
       "      <td>964982224</td>\n",
       "    </tr>\n",
       "    <tr>\n",
       "      <th>3</th>\n",
       "      <td>1</td>\n",
       "      <td>47</td>\n",
       "      <td>5.0</td>\n",
       "      <td>964983815</td>\n",
       "    </tr>\n",
       "    <tr>\n",
       "      <th>4</th>\n",
       "      <td>1</td>\n",
       "      <td>50</td>\n",
       "      <td>5.0</td>\n",
       "      <td>964982931</td>\n",
       "    </tr>\n",
       "    <tr>\n",
       "      <th>...</th>\n",
       "      <td>...</td>\n",
       "      <td>...</td>\n",
       "      <td>...</td>\n",
       "      <td>...</td>\n",
       "    </tr>\n",
       "    <tr>\n",
       "      <th>100831</th>\n",
       "      <td>610</td>\n",
       "      <td>166534</td>\n",
       "      <td>4.0</td>\n",
       "      <td>1493848402</td>\n",
       "    </tr>\n",
       "    <tr>\n",
       "      <th>100832</th>\n",
       "      <td>610</td>\n",
       "      <td>168248</td>\n",
       "      <td>5.0</td>\n",
       "      <td>1493850091</td>\n",
       "    </tr>\n",
       "    <tr>\n",
       "      <th>100833</th>\n",
       "      <td>610</td>\n",
       "      <td>168250</td>\n",
       "      <td>5.0</td>\n",
       "      <td>1494273047</td>\n",
       "    </tr>\n",
       "    <tr>\n",
       "      <th>100834</th>\n",
       "      <td>610</td>\n",
       "      <td>168252</td>\n",
       "      <td>5.0</td>\n",
       "      <td>1493846352</td>\n",
       "    </tr>\n",
       "    <tr>\n",
       "      <th>100835</th>\n",
       "      <td>610</td>\n",
       "      <td>170875</td>\n",
       "      <td>3.0</td>\n",
       "      <td>1493846415</td>\n",
       "    </tr>\n",
       "  </tbody>\n",
       "</table>\n",
       "<p>100836 rows × 4 columns</p>\n",
       "</div>"
      ],
      "text/plain": [
       "        userId  movieId  rating   timestamp\n",
       "0            1        1     4.0   964982703\n",
       "1            1        3     4.0   964981247\n",
       "2            1        6     4.0   964982224\n",
       "3            1       47     5.0   964983815\n",
       "4            1       50     5.0   964982931\n",
       "...        ...      ...     ...         ...\n",
       "100831     610   166534     4.0  1493848402\n",
       "100832     610   168248     5.0  1493850091\n",
       "100833     610   168250     5.0  1494273047\n",
       "100834     610   168252     5.0  1493846352\n",
       "100835     610   170875     3.0  1493846415\n",
       "\n",
       "[100836 rows x 4 columns]"
      ]
     },
     "execution_count": 44,
     "metadata": {},
     "output_type": "execute_result"
    }
   ],
   "source": [
    "r"
   ]
  },
  {
   "cell_type": "code",
   "execution_count": 45,
   "id": "f225e38d",
   "metadata": {},
   "outputs": [
    {
     "data": {
      "text/plain": [
       "(100836, 4)"
      ]
     },
     "execution_count": 45,
     "metadata": {},
     "output_type": "execute_result"
    }
   ],
   "source": [
    "r.shape"
   ]
  },
  {
   "cell_type": "code",
   "execution_count": 46,
   "id": "b3006282",
   "metadata": {},
   "outputs": [
    {
     "data": {
      "text/plain": [
       "userId         610\n",
       "movieId       9724\n",
       "rating          10\n",
       "timestamp    85043\n",
       "dtype: int64"
      ]
     },
     "execution_count": 46,
     "metadata": {},
     "output_type": "execute_result"
    }
   ],
   "source": [
    "r.nunique()"
   ]
  },
  {
   "cell_type": "code",
   "execution_count": 47,
   "id": "732d7b8b",
   "metadata": {},
   "outputs": [
    {
     "data": {
      "text/html": [
       "<div>\n",
       "<style scoped>\n",
       "    .dataframe tbody tr th:only-of-type {\n",
       "        vertical-align: middle;\n",
       "    }\n",
       "\n",
       "    .dataframe tbody tr th {\n",
       "        vertical-align: top;\n",
       "    }\n",
       "\n",
       "    .dataframe thead th {\n",
       "        text-align: right;\n",
       "    }\n",
       "</style>\n",
       "<table border=\"1\" class=\"dataframe\">\n",
       "  <thead>\n",
       "    <tr style=\"text-align: right;\">\n",
       "      <th></th>\n",
       "      <th>movieId</th>\n",
       "      <th>title</th>\n",
       "      <th>genres</th>\n",
       "    </tr>\n",
       "  </thead>\n",
       "  <tbody>\n",
       "    <tr>\n",
       "      <th>0</th>\n",
       "      <td>1</td>\n",
       "      <td>Toy Story (1995)</td>\n",
       "      <td>Adventure|Animation|Children|Comedy|Fantasy</td>\n",
       "    </tr>\n",
       "    <tr>\n",
       "      <th>1</th>\n",
       "      <td>2</td>\n",
       "      <td>Jumanji (1995)</td>\n",
       "      <td>Adventure|Children|Fantasy</td>\n",
       "    </tr>\n",
       "    <tr>\n",
       "      <th>2</th>\n",
       "      <td>3</td>\n",
       "      <td>Grumpier Old Men (1995)</td>\n",
       "      <td>Comedy|Romance</td>\n",
       "    </tr>\n",
       "    <tr>\n",
       "      <th>3</th>\n",
       "      <td>4</td>\n",
       "      <td>Waiting to Exhale (1995)</td>\n",
       "      <td>Comedy|Drama|Romance</td>\n",
       "    </tr>\n",
       "    <tr>\n",
       "      <th>4</th>\n",
       "      <td>5</td>\n",
       "      <td>Father of the Bride Part II (1995)</td>\n",
       "      <td>Comedy</td>\n",
       "    </tr>\n",
       "    <tr>\n",
       "      <th>...</th>\n",
       "      <td>...</td>\n",
       "      <td>...</td>\n",
       "      <td>...</td>\n",
       "    </tr>\n",
       "    <tr>\n",
       "      <th>9737</th>\n",
       "      <td>193581</td>\n",
       "      <td>Black Butler: Book of the Atlantic (2017)</td>\n",
       "      <td>Action|Animation|Comedy|Fantasy</td>\n",
       "    </tr>\n",
       "    <tr>\n",
       "      <th>9738</th>\n",
       "      <td>193583</td>\n",
       "      <td>No Game No Life: Zero (2017)</td>\n",
       "      <td>Animation|Comedy|Fantasy</td>\n",
       "    </tr>\n",
       "    <tr>\n",
       "      <th>9739</th>\n",
       "      <td>193585</td>\n",
       "      <td>Flint (2017)</td>\n",
       "      <td>Drama</td>\n",
       "    </tr>\n",
       "    <tr>\n",
       "      <th>9740</th>\n",
       "      <td>193587</td>\n",
       "      <td>Bungo Stray Dogs: Dead Apple (2018)</td>\n",
       "      <td>Action|Animation</td>\n",
       "    </tr>\n",
       "    <tr>\n",
       "      <th>9741</th>\n",
       "      <td>193609</td>\n",
       "      <td>Andrew Dice Clay: Dice Rules (1991)</td>\n",
       "      <td>Comedy</td>\n",
       "    </tr>\n",
       "  </tbody>\n",
       "</table>\n",
       "<p>9742 rows × 3 columns</p>\n",
       "</div>"
      ],
      "text/plain": [
       "      movieId                                      title  \\\n",
       "0           1                           Toy Story (1995)   \n",
       "1           2                             Jumanji (1995)   \n",
       "2           3                    Grumpier Old Men (1995)   \n",
       "3           4                   Waiting to Exhale (1995)   \n",
       "4           5         Father of the Bride Part II (1995)   \n",
       "...       ...                                        ...   \n",
       "9737   193581  Black Butler: Book of the Atlantic (2017)   \n",
       "9738   193583               No Game No Life: Zero (2017)   \n",
       "9739   193585                               Flint (2017)   \n",
       "9740   193587        Bungo Stray Dogs: Dead Apple (2018)   \n",
       "9741   193609        Andrew Dice Clay: Dice Rules (1991)   \n",
       "\n",
       "                                           genres  \n",
       "0     Adventure|Animation|Children|Comedy|Fantasy  \n",
       "1                      Adventure|Children|Fantasy  \n",
       "2                                  Comedy|Romance  \n",
       "3                            Comedy|Drama|Romance  \n",
       "4                                          Comedy  \n",
       "...                                           ...  \n",
       "9737              Action|Animation|Comedy|Fantasy  \n",
       "9738                     Animation|Comedy|Fantasy  \n",
       "9739                                        Drama  \n",
       "9740                             Action|Animation  \n",
       "9741                                       Comedy  \n",
       "\n",
       "[9742 rows x 3 columns]"
      ]
     },
     "execution_count": 47,
     "metadata": {},
     "output_type": "execute_result"
    }
   ],
   "source": [
    "m"
   ]
  },
  {
   "cell_type": "code",
   "execution_count": 48,
   "id": "53ffe011",
   "metadata": {},
   "outputs": [
    {
     "data": {
      "text/plain": [
       "5.0"
      ]
     },
     "execution_count": 48,
     "metadata": {},
     "output_type": "execute_result"
    }
   ],
   "source": [
    "r.rating.max()"
   ]
  },
  {
   "cell_type": "code",
   "execution_count": 49,
   "id": "09553fd3",
   "metadata": {},
   "outputs": [],
   "source": [
    "v=r.groupby('movieId')['rating'].count()\n"
   ]
  },
  {
   "cell_type": "markdown",
   "id": "f3b506cd",
   "metadata": {},
   "source": [
    "v"
   ]
  },
  {
   "cell_type": "code",
   "execution_count": 50,
   "id": "bde157cf",
   "metadata": {},
   "outputs": [
    {
     "data": {
      "text/plain": [
       "movieId\n",
       "1         215\n",
       "2         110\n",
       "3          52\n",
       "4           7\n",
       "5          49\n",
       "         ... \n",
       "193581      1\n",
       "193583      1\n",
       "193585      1\n",
       "193587      1\n",
       "193609      1\n",
       "Name: rating, Length: 9724, dtype: int64"
      ]
     },
     "execution_count": 50,
     "metadata": {},
     "output_type": "execute_result"
    }
   ],
   "source": [
    "v"
   ]
  },
  {
   "cell_type": "code",
   "execution_count": 51,
   "id": "3cb1b5cf",
   "metadata": {},
   "outputs": [],
   "source": [
    "rid=v.idxmax()"
   ]
  },
  {
   "cell_type": "code",
   "execution_count": 52,
   "id": "d925a847",
   "metadata": {},
   "outputs": [
    {
     "data": {
      "text/plain": [
       "356"
      ]
     },
     "execution_count": 52,
     "metadata": {},
     "output_type": "execute_result"
    }
   ],
   "source": [
    "rid"
   ]
  },
  {
   "cell_type": "code",
   "execution_count": 53,
   "id": "311e9ff5",
   "metadata": {},
   "outputs": [],
   "source": [
    "rr=v.max()"
   ]
  },
  {
   "cell_type": "code",
   "execution_count": 54,
   "id": "6fc53940",
   "metadata": {},
   "outputs": [
    {
     "data": {
      "text/plain": [
       "329"
      ]
     },
     "execution_count": 54,
     "metadata": {},
     "output_type": "execute_result"
    }
   ],
   "source": [
    "rr"
   ]
  },
  {
   "cell_type": "code",
   "execution_count": 55,
   "id": "8fb6d19e",
   "metadata": {},
   "outputs": [
    {
     "ename": "NameError",
     "evalue": "name 'ratings' is not defined",
     "output_type": "error",
     "traceback": [
      "\u001b[1;31m---------------------------------------------------------------------------\u001b[0m",
      "\u001b[1;31mNameError\u001b[0m                                 Traceback (most recent call last)",
      "Cell \u001b[1;32mIn[55], line 1\u001b[0m\n\u001b[1;32m----> 1\u001b[0m merged_df \u001b[38;5;241m=\u001b[39m pd\u001b[38;5;241m.\u001b[39mmerge(ratings, v\u001b[38;5;241m.\u001b[39mreset_index(), on\u001b[38;5;241m=\u001b[39m\u001b[38;5;124m'\u001b[39m\u001b[38;5;124mmovieId\u001b[39m\u001b[38;5;124m'\u001b[39m)\n",
      "\u001b[1;31mNameError\u001b[0m: name 'ratings' is not defined"
     ]
    }
   ],
   "source": [
    "merged_df = pd.merge(ratings, v.reset_index(), on='movieId')"
   ]
  },
  {
   "cell_type": "code",
   "execution_count": 57,
   "id": "50d8043c",
   "metadata": {},
   "outputs": [],
   "source": [
    "movie_rating_counts = rating.groupby('movieId')['rating'].count()"
   ]
  },
  {
   "cell_type": "code",
   "execution_count": 58,
   "id": "0e2fc726",
   "metadata": {},
   "outputs": [
    {
     "data": {
      "text/plain": [
       "movieId\n",
       "1         215\n",
       "2         110\n",
       "3          52\n",
       "4           7\n",
       "5          49\n",
       "         ... \n",
       "193581      1\n",
       "193583      1\n",
       "193585      1\n",
       "193587      1\n",
       "193609      1\n",
       "Name: rating, Length: 9724, dtype: int64"
      ]
     },
     "execution_count": 58,
     "metadata": {},
     "output_type": "execute_result"
    }
   ],
   "source": [
    "movie_rating_counts"
   ]
  },
  {
   "cell_type": "code",
   "execution_count": 59,
   "id": "e39c3305",
   "metadata": {},
   "outputs": [],
   "source": [
    "max_ratings_movie_id = movie_rating_counts.idxmax()"
   ]
  },
  {
   "cell_type": "code",
   "execution_count": 60,
   "id": "760cb5eb",
   "metadata": {},
   "outputs": [],
   "source": [
    "max_ratings_count = movie_rating_counts.max()"
   ]
  },
  {
   "cell_type": "code",
   "execution_count": 62,
   "id": "b15da10d",
   "metadata": {},
   "outputs": [],
   "source": [
    "merged_df = pd.merge(movieId, movie_rating_counts.reset_index(), on='movieId')\n"
   ]
  },
  {
   "cell_type": "code",
   "execution_count": 63,
   "id": "0664793a",
   "metadata": {},
   "outputs": [],
   "source": [
    "max_ratings_movie_details = merged_df[merged_df['movieId'] == max_ratings_movie_id]"
   ]
  },
  {
   "cell_type": "code",
   "execution_count": 64,
   "id": "43c3200c",
   "metadata": {},
   "outputs": [
    {
     "name": "stdout",
     "output_type": "stream",
     "text": [
      "The movie with the maximum number of ratings is: Forrest Gump (1994)\n",
      "Number of ratings: 329\n"
     ]
    }
   ],
   "source": [
    "movie_title = max_ratings_movie_details['title'].values[0]\n",
    "print(f\"The movie with the maximum number of ratings is: {movie_title}\")\n",
    "print(f\"Number of ratings: {max_ratings_count}\")"
   ]
  },
  {
   "cell_type": "code",
   "execution_count": 65,
   "id": "f5decb16",
   "metadata": {},
   "outputs": [
    {
     "ename": "SyntaxError",
     "evalue": "(unicode error) 'unicodeescape' codec can't decode bytes in position 2-3: truncated \\UXXXXXXXX escape (1747870001.py, line 1)",
     "output_type": "error",
     "traceback": [
      "\u001b[1;36m  Cell \u001b[1;32mIn[65], line 1\u001b[1;36m\u001b[0m\n\u001b[1;33m    \"C:\\Users\\DELL\\Downloads\\ml\\tags.csv\"\u001b[0m\n\u001b[1;37m                                         ^\u001b[0m\n\u001b[1;31mSyntaxError\u001b[0m\u001b[1;31m:\u001b[0m (unicode error) 'unicodeescape' codec can't decode bytes in position 2-3: truncated \\UXXXXXXXX escape\n"
     ]
    }
   ],
   "source": [
    "\"C:\\Users\\DELL\\Downloads\\ml\\tags.csv\""
   ]
  },
  {
   "cell_type": "code",
   "execution_count": 66,
   "id": "76764edf",
   "metadata": {},
   "outputs": [],
   "source": [
    "tags_df = pd.read_csv(r\"C:\\Users\\DELL\\Downloads\\ml\\tags.csv\")"
   ]
  },
  {
   "cell_type": "code",
   "execution_count": 67,
   "id": "16ada6d1",
   "metadata": {},
   "outputs": [],
   "source": [
    "matrix_movie = movieId[movieId['title'] == 'Matrix, The (1999)']"
   ]
  },
  {
   "cell_type": "code",
   "execution_count": 68,
   "id": "124d4294",
   "metadata": {},
   "outputs": [],
   "source": [
    "matrix_movie_id = matrix_movie['movieId'].values[0]"
   ]
  },
  {
   "cell_type": "code",
   "execution_count": 69,
   "id": "a29f3bc1",
   "metadata": {},
   "outputs": [],
   "source": [
    "matrix_tags = tags_df[tags_df['movieId'] == matrix_movie_id]"
   ]
  },
  {
   "cell_type": "code",
   "execution_count": 70,
   "id": "8261c12f",
   "metadata": {},
   "outputs": [],
   "source": [
    "matrix_tags = tags_df[tags_df['movieId'] == matrix_movie_id]"
   ]
  },
  {
   "cell_type": "code",
   "execution_count": 71,
   "id": "06cf7d18",
   "metadata": {},
   "outputs": [
    {
     "name": "stdout",
     "output_type": "stream",
     "text": [
      "Tags for 'Matrix, The (1999)': ['martial arts' 'sci-fi' 'alternate universe' 'philosophy'\n",
      " 'post apocalyptic']\n"
     ]
    }
   ],
   "source": [
    "tags_list = matrix_tags['tag'].unique()\n",
    "print(f\"Tags for 'Matrix, The (1999)': {tags_list}\")\n"
   ]
  },
  {
   "cell_type": "code",
   "execution_count": 74,
   "id": "62a016ed",
   "metadata": {},
   "outputs": [],
   "source": [
    "terminator_movie = movieId[movieId['title'] == 'Terminator 2: Judgment Day (1991)']\n",
    "terminator_movie_id = terminator_movie['movieId'].values[0]"
   ]
  },
  {
   "cell_type": "code",
   "execution_count": 75,
   "id": "f4f9055d",
   "metadata": {},
   "outputs": [],
   "source": [
    "terminator_ratings = rating[rating['movieId'] == terminator_movie_id]"
   ]
  },
  {
   "cell_type": "code",
   "execution_count": 76,
   "id": "a244c012",
   "metadata": {},
   "outputs": [
    {
     "name": "stdout",
     "output_type": "stream",
     "text": [
      "The average user rating for 'Terminator 2: Judgment Day (1991)' is: 3.97\n"
     ]
    }
   ],
   "source": [
    "average_rating = terminator_ratings['rating'].mean()\n",
    "print(f\"The average user rating for 'Terminator 2: Judgment Day (1991)' is: {average_rating:.2f}\")"
   ]
  },
  {
   "cell_type": "code",
   "execution_count": 77,
   "id": "c6e87f7a",
   "metadata": {},
   "outputs": [],
   "source": [
    "fight_club_movie = movieId[movieId['title'] == 'Fight Club (1999)']\n",
    "fight_club_movie_id = fight_club_movie['movieId'].values[0]"
   ]
  },
  {
   "cell_type": "code",
   "execution_count": 80,
   "id": "1e694479",
   "metadata": {},
   "outputs": [],
   "source": [
    "fight_club_ratings = rating[rating['movieId'] == fight_club_movie_id]"
   ]
  },
  {
   "cell_type": "code",
   "execution_count": 81,
   "id": "31bdcb40",
   "metadata": {},
   "outputs": [
    {
     "data": {
      "image/png": "[encoded data removed]",
      "text/plain": [
       "<Figure size 640x480 with 1 Axes>"
      ]
     },
     "metadata": {},
     "output_type": "display_data"
    }
   ],
   "source": [
    "import matplotlib.pyplot as plt\n",
    "\n",
    "plt.hist(fight_club_ratings['rating'], bins=10, edgecolor='black')\n",
    "plt.title('Distribution of User Ratings for \"Fight Club (1999)\"')\n",
    "plt.xlabel('Rating')\n",
    "plt.ylabel('Frequency')\n",
    "plt.show()\n"
   ]
  },
  {
   "cell_type": "code",
   "execution_count": 82,
   "id": "04a5fae2",
   "metadata": {},
   "outputs": [
    {
     "data": {
      "image/png": "[encoded data removed]",
      "text/plain": [
       "<Figure size 640x480 with 1 Axes>"
      ]
     },
     "metadata": {},
     "output_type": "display_data"
    }
   ],
   "source": [
    "import seaborn as sns\n",
    "\n",
    "sns.boxplot(x=fight_club_ratings['rating'])\n",
    "plt.title('Box Plot of User Ratings for \"Fight Club (1999)\"')\n",
    "plt.xlabel('Rating')\n",
    "plt.show()"
   ]
  },
  {
   "cell_type": "code",
   "execution_count": 83,
   "id": "27662997",
   "metadata": {},
   "outputs": [
    {
     "name": "stdout",
     "output_type": "stream",
     "text": [
      "count    218.000000\n",
      "mean       4.272936\n",
      "std        0.861384\n",
      "min        0.500000\n",
      "25%        4.000000\n",
      "50%        4.500000\n",
      "75%        5.000000\n",
      "max        5.000000\n",
      "Name: rating, dtype: float64\n"
     ]
    }
   ],
   "source": [
    "rating_summary = fight_club_ratings['rating'].describe()\n",
    "print(rating_summary)\n"
   ]
  },
  {
   "cell_type": "code",
   "execution_count": 86,
   "id": "10a8ac01",
   "metadata": {},
   "outputs": [
    {
     "name": "stdout",
     "output_type": "stream",
     "text": [
      "              userId        movieId         rating     timestamp\n",
      "count  100836.000000  100836.000000  100836.000000  1.008360e+05\n",
      "mean      326.127564   19435.295718       3.501557  1.205946e+09\n",
      "std       182.618491   35530.987199       1.042529  2.162610e+08\n",
      "min         1.000000       1.000000       0.500000  8.281246e+08\n",
      "25%       177.000000    1199.000000       3.000000  1.019124e+09\n",
      "50%       325.000000    2991.000000       3.500000  1.186087e+09\n",
      "75%       477.000000    8122.000000       4.000000  1.435994e+09\n",
      "max       610.000000  193609.000000       5.000000  1.537799e+09\n",
      "            userId        movieId     timestamp\n",
      "count  3683.000000    3683.000000  3.683000e+03\n",
      "mean    431.149335   27252.013576  1.320032e+09\n",
      "std     158.472553   43490.558803  1.721025e+08\n",
      "min       2.000000       1.000000  1.137179e+09\n",
      "25%     424.000000    1262.500000  1.137521e+09\n",
      "50%     474.000000    4454.000000  1.269833e+09\n",
      "75%     477.000000   39263.000000  1.498457e+09\n",
      "max     610.000000  193565.000000  1.537099e+09\n"
     ]
    }
   ],
   "source": [
    "# Summary statistics for ratings\n",
    "print(rating.describe())\n",
    "\n",
    "# Summary statistics for tags\n",
    "print(tags_df.describe())\n"
   ]
  },
  {
   "cell_type": "code",
   "execution_count": 89,
   "id": "545e923f",
   "metadata": {},
   "outputs": [
    {
     "data": {
      "image/png": "[encoded data removed]",
      "text/plain": [
       "<Figure size 640x480 with 1 Axes>"
      ]
     },
     "metadata": {},
     "output_type": "display_data"
    }
   ],
   "source": [
    "import matplotlib.pyplot as plt\n",
    "\n",
    "# Plot distribution of ratings\n",
    "plt.hist(rating['rating'], bins=10, edgecolor='k')\n",
    "plt.xlabel('Rating')\n",
    "plt.ylabel('Frequency')\n",
    "plt.title('Distribution of Ratings')\n",
    "plt.show()"
   ]
  },
  {
   "cell_type": "code",
   "execution_count": 90,
   "id": "cc079a30",
   "metadata": {},
   "outputs": [],
   "source": [
    "average_ratings = rating.groupby('movieId')['rating'].mean()"
   ]
  },
  {
   "cell_type": "code",
   "execution_count": 91,
   "id": "a1527b5d",
   "metadata": {},
   "outputs": [],
   "source": [
    "rating_counts = rating['movieId'].value_counts()\n",
    "most_rated_movies = rating_counts.head(10)  # Top 10 most rated movies"
   ]
  },
  {
   "cell_type": "code",
   "execution_count": 92,
   "id": "92ba2d36",
   "metadata": {},
   "outputs": [
    {
     "name": "stdout",
     "output_type": "stream",
     "text": [
      "Most popular movie ID: 53\n",
      "Average rating of the most popular movie: 5.0\n"
     ]
    }
   ],
   "source": [
    "most_popular_movie_id = average_ratings.idxmax()\n",
    "most_popular_movie_rating = average_ratings.max()\n",
    "\n",
    "print(f'Most popular movie ID: {most_popular_movie_id}')\n",
    "print(f'Average rating of the most popular movie: {most_popular_movie_rating}')"
   ]
  },
  {
   "cell_type": "code",
   "execution_count": 94,
   "id": "57e29741",
   "metadata": {},
   "outputs": [],
   "source": [
    "tag_counts = tags_df['movieId'].value_counts()\n"
   ]
  },
  {
   "cell_type": "code",
   "execution_count": 95,
   "id": "b2a92f84",
   "metadata": {},
   "outputs": [],
   "source": [
    "most_common_tags = tags_df['tag'].value_counts()"
   ]
  },
  {
   "cell_type": "code",
   "execution_count": 97,
   "id": "eaa0acb3",
   "metadata": {},
   "outputs": [],
   "source": [
    "merged_data = pd.merge(rating, movieId, on='movieId')\n",
    "merged_data = pd.merge(merged_data, tags_df, on='movieId')"
   ]
  },
  {
   "cell_type": "code",
   "execution_count": 98,
   "id": "5a1fd220",
   "metadata": {},
   "outputs": [],
   "source": [
    "ratings_by_tag = merged_data.groupby('tag')['rating'].mean().sort_values(ascending=False)\n"
   ]
  },
  {
   "cell_type": "code",
   "execution_count": 99,
   "id": "312799e4",
   "metadata": {},
   "outputs": [
    {
     "data": {
      "image/png": "[encoded data removed]",
      "text/plain": [
       "<Figure size 640x480 with 1 Axes>"
      ]
     },
     "metadata": {},
     "output_type": "display_data"
    }
   ],
   "source": [
    "import seaborn as sns\n",
    "\n",
    "# Example: Ratings vs. Number of Tags\n",
    "ratings_tags = merged_data.groupby('movieId').agg({'rating': 'mean', 'tag': 'count'}).reset_index()\n",
    "sns.scatterplot(data=ratings_tags, x='tag', y='rating')\n",
    "plt.xlabel('Number of Tags')\n",
    "plt.ylabel('Average Rating')\n",
    "plt.title('Ratings vs. Number of Tags')\n",
    "plt.show()\n"
   ]
  },
  {
   "cell_type": "code",
   "execution_count": 100,
   "id": "cc65f179",
   "metadata": {},
   "outputs": [],
   "source": [
    "# Calculate average ratings for each movie\n",
    "average_ratings = rating.groupby('movieId')['rating'].mean()\n"
   ]
  },
  {
   "cell_type": "code",
   "execution_count": 101,
   "id": "40df080a",
   "metadata": {},
   "outputs": [],
   "source": [
    "# Merge average ratings with movie titles\n",
    "average_ratings = average_ratings.reset_index()\n",
    "average_ratings = pd.merge(average_ratings, movieId, on='movieId')"
   ]
  },
  {
   "cell_type": "code",
   "execution_count": 102,
   "id": "c6219273",
   "metadata": {},
   "outputs": [
    {
     "name": "stdout",
     "output_type": "stream",
     "text": [
      "Most popular movie based on average user ratings:\n",
      "Title: Lamerica (1994)\n",
      "Average Rating: 5.0\n"
     ]
    }
   ],
   "source": [
    "# Find the movie with the highest average rating\n",
    "most_popular_movie = average_ratings.loc[average_ratings['rating'].idxmax()]\n",
    "\n",
    "# Print the result\n",
    "print(f\"Most popular movie based on average user ratings:\")\n",
    "print(f\"Title: {most_popular_movie['title']}\")\n",
    "print(f\"Average Rating: {most_popular_movie['rating']}\")\n"
   ]
  },
  {
   "cell_type": "code",
   "execution_count": 103,
   "id": "be89106e",
   "metadata": {},
   "outputs": [],
   "source": [
    "# Count the number of ratings for each movie\n",
    "rating_counts = rating['movieId'].value_counts()\n"
   ]
  },
  {
   "cell_type": "code",
   "execution_count": 104,
   "id": "6922cedb",
   "metadata": {},
   "outputs": [],
   "source": [
    "# Get the top 5 movie IDs with the highest number of ratings\n",
    "top_5_movie_ids = rating_counts.head(5).index"
   ]
  },
  {
   "cell_type": "code",
   "execution_count": 105,
   "id": "4d003207",
   "metadata": {},
   "outputs": [
    {
     "name": "stdout",
     "output_type": "stream",
     "text": [
      "Top 5 movies based on the number of user ratings:\n",
      "                                 title  rating_count\n",
      "257                Pulp Fiction (1994)           307\n",
      "277   Shawshank Redemption, The (1994)           317\n",
      "314                Forrest Gump (1994)           329\n",
      "510   Silence of the Lambs, The (1991)           279\n",
      "1939                Matrix, The (1999)           278\n"
     ]
    },
    {
     "name": "stderr",
     "output_type": "stream",
     "text": [
      "C:\\Users\\DELL\\AppData\\Local\\Temp\\ipykernel_15604\\2729142103.py:5: SettingWithCopyWarning: \n",
      "A value is trying to be set on a copy of a slice from a DataFrame.\n",
      "Try using .loc[row_indexer,col_indexer] = value instead\n",
      "\n",
      "See the caveats in the documentation: https://pandas.pydata.org/pandas-docs/stable/user_guide/indexing.html#returning-a-view-versus-a-copy\n",
      "  top_5_movies['rating_count'] = top_5_movies['movieId'].map(rating_counts)\n"
     ]
    }
   ],
   "source": [
    "# Filter movies to include only the top 5 movie IDs\n",
    "top_5_movies = movieId[movieId['movieId'].isin(top_5_movie_ids)]\n",
    "\n",
    "# Add the number of ratings to the movie information\n",
    "top_5_movies['rating_count'] = top_5_movies['movieId'].map(rating_counts)\n",
    "\n",
    "# Print the result\n",
    "print(\"Top 5 movies based on the number of user ratings:\")\n",
    "print(top_5_movies[['title', 'rating_count']])\n"
   ]
  },
  {
   "cell_type": "code",
   "execution_count": 106,
   "id": "915bfaad",
   "metadata": {},
   "outputs": [],
   "source": [
    "# Filter Sci-Fi movies\n",
    "sci_fi_movies = movieId[movieId['genres'].str.contains('Sci-Fi')]"
   ]
  },
  {
   "cell_type": "code",
   "execution_count": 107,
   "id": "800fa7c6",
   "metadata": {},
   "outputs": [],
   "source": [
    "# Count the number of ratings for each Sci-Fi movie\n",
    "sci_fi_rating_counts = rating[rating['movieId'].isin(sci_fi_movies['movieId'])]['movieId'].value_counts()\n"
   ]
  },
  {
   "cell_type": "code",
   "execution_count": 109,
   "id": "7b0965b4",
   "metadata": {},
   "outputs": [
    {
     "name": "stdout",
     "output_type": "stream",
     "text": [
      "Third most popular Sci-Fi movie based on the number of user ratings:\n",
      "                    title  movieId\n",
      "418  Jurassic Park (1993)      480\n"
     ]
    }
   ],
   "source": [
    "# Get the movie IDs for the top Sci-Fi movies\n",
    "top_sci_fi_movie_ids = sci_fi_rating_counts.head(3).index\n",
    "\n",
    "# Get the third most popular Sci-Fi movie\n",
    "third_most_popular_sci_fi_id = sci_fi_rating_counts.index[2]\n",
    "\n",
    "# Merge to get movie details\n",
    "third_most_popular_sci_fi_movie = sci_fi_movies[sci_fi_movies['movieId'] == third_most_popular_sci_fi_id]\n",
    "print(\"Third most popular Sci-Fi movie based on the number of user ratings:\")\n",
    "print(third_most_popular_sci_fi_movie[['title', 'movieId']])"
   ]
  },
  {
   "cell_type": "code",
   "execution_count": 110,
   "id": "eac0e55d",
   "metadata": {},
   "outputs": [
    {
     "ename": "KeyError",
     "evalue": "'imdb_rating'",
     "output_type": "error",
     "traceback": [
      "\u001b[1;31m---------------------------------------------------------------------------\u001b[0m",
      "\u001b[1;31mKeyError\u001b[0m                                  Traceback (most recent call last)",
      "File \u001b[1;32m~\\anaconda3\\Lib\\site-packages\\pandas\\core\\indexes\\base.py:3653\u001b[0m, in \u001b[0;36mIndex.get_loc\u001b[1;34m(self, key)\u001b[0m\n\u001b[0;32m   3652\u001b[0m \u001b[38;5;28;01mtry\u001b[39;00m:\n\u001b[1;32m-> 3653\u001b[0m     \u001b[38;5;28;01mreturn\u001b[39;00m \u001b[38;5;28mself\u001b[39m\u001b[38;5;241m.\u001b[39m_engine\u001b[38;5;241m.\u001b[39mget_loc(casted_key)\n\u001b[0;32m   3654\u001b[0m \u001b[38;5;28;01mexcept\u001b[39;00m \u001b[38;5;167;01mKeyError\u001b[39;00m \u001b[38;5;28;01mas\u001b[39;00m err:\n",
      "File \u001b[1;32m~\\anaconda3\\Lib\\site-packages\\pandas\\_libs\\index.pyx:147\u001b[0m, in \u001b[0;36mpandas._libs.index.IndexEngine.get_loc\u001b[1;34m()\u001b[0m\n",
      "File \u001b[1;32m~\\anaconda3\\Lib\\site-packages\\pandas\\_libs\\index.pyx:176\u001b[0m, in \u001b[0;36mpandas._libs.index.IndexEngine.get_loc\u001b[1;34m()\u001b[0m\n",
      "File \u001b[1;32mpandas\\_libs\\hashtable_class_helper.pxi:7080\u001b[0m, in \u001b[0;36mpandas._libs.hashtable.PyObjectHashTable.get_item\u001b[1;34m()\u001b[0m\n",
      "File \u001b[1;32mpandas\\_libs\\hashtable_class_helper.pxi:7088\u001b[0m, in \u001b[0;36mpandas._libs.hashtable.PyObjectHashTable.get_item\u001b[1;34m()\u001b[0m\n",
      "\u001b[1;31mKeyError\u001b[0m: 'imdb_rating'",
      "\nThe above exception was the direct cause of the following exception:\n",
      "\u001b[1;31mKeyError\u001b[0m                                  Traceback (most recent call last)",
      "Cell \u001b[1;32mIn[110], line 2\u001b[0m\n\u001b[0;32m      1\u001b[0m \u001b[38;5;66;03m# Assuming the dataset has a column named 'imdb_rating'\u001b[39;00m\n\u001b[1;32m----> 2\u001b[0m highest_imdb_rating \u001b[38;5;241m=\u001b[39m movieId[\u001b[38;5;124m'\u001b[39m\u001b[38;5;124mimdb_rating\u001b[39m\u001b[38;5;124m'\u001b[39m]\u001b[38;5;241m.\u001b[39mmax()\n",
      "File \u001b[1;32m~\\anaconda3\\Lib\\site-packages\\pandas\\core\\frame.py:3761\u001b[0m, in \u001b[0;36mDataFrame.__getitem__\u001b[1;34m(self, key)\u001b[0m\n\u001b[0;32m   3759\u001b[0m \u001b[38;5;28;01mif\u001b[39;00m \u001b[38;5;28mself\u001b[39m\u001b[38;5;241m.\u001b[39mcolumns\u001b[38;5;241m.\u001b[39mnlevels \u001b[38;5;241m>\u001b[39m \u001b[38;5;241m1\u001b[39m:\n\u001b[0;32m   3760\u001b[0m     \u001b[38;5;28;01mreturn\u001b[39;00m \u001b[38;5;28mself\u001b[39m\u001b[38;5;241m.\u001b[39m_getitem_multilevel(key)\n\u001b[1;32m-> 3761\u001b[0m indexer \u001b[38;5;241m=\u001b[39m \u001b[38;5;28mself\u001b[39m\u001b[38;5;241m.\u001b[39mcolumns\u001b[38;5;241m.\u001b[39mget_loc(key)\n\u001b[0;32m   3762\u001b[0m \u001b[38;5;28;01mif\u001b[39;00m is_integer(indexer):\n\u001b[0;32m   3763\u001b[0m     indexer \u001b[38;5;241m=\u001b[39m [indexer]\n",
      "File \u001b[1;32m~\\anaconda3\\Lib\\site-packages\\pandas\\core\\indexes\\base.py:3655\u001b[0m, in \u001b[0;36mIndex.get_loc\u001b[1;34m(self, key)\u001b[0m\n\u001b[0;32m   3653\u001b[0m     \u001b[38;5;28;01mreturn\u001b[39;00m \u001b[38;5;28mself\u001b[39m\u001b[38;5;241m.\u001b[39m_engine\u001b[38;5;241m.\u001b[39mget_loc(casted_key)\n\u001b[0;32m   3654\u001b[0m \u001b[38;5;28;01mexcept\u001b[39;00m \u001b[38;5;167;01mKeyError\u001b[39;00m \u001b[38;5;28;01mas\u001b[39;00m err:\n\u001b[1;32m-> 3655\u001b[0m     \u001b[38;5;28;01mraise\u001b[39;00m \u001b[38;5;167;01mKeyError\u001b[39;00m(key) \u001b[38;5;28;01mfrom\u001b[39;00m \u001b[38;5;21;01merr\u001b[39;00m\n\u001b[0;32m   3656\u001b[0m \u001b[38;5;28;01mexcept\u001b[39;00m \u001b[38;5;167;01mTypeError\u001b[39;00m:\n\u001b[0;32m   3657\u001b[0m     \u001b[38;5;66;03m# If we have a listlike key, _check_indexing_error will raise\u001b[39;00m\n\u001b[0;32m   3658\u001b[0m     \u001b[38;5;66;03m#  InvalidIndexError. Otherwise we fall through and re-raise\u001b[39;00m\n\u001b[0;32m   3659\u001b[0m     \u001b[38;5;66;03m#  the TypeError.\u001b[39;00m\n\u001b[0;32m   3660\u001b[0m     \u001b[38;5;28mself\u001b[39m\u001b[38;5;241m.\u001b[39m_check_indexing_error(key)\n",
      "\u001b[1;31mKeyError\u001b[0m: 'imdb_rating'"
     ]
    }
   ],
   "source": [
    "# Assuming the dataset has a column named 'imdb_rating'\n",
    "highest_imdb_rating = movieId['imdb_rating'].max()"
   ]
  },
  {
   "cell_type": "code",
   "execution_count": 112,
   "id": "430b14ba",
   "metadata": {},
   "outputs": [
    {
     "data": {
      "text/html": [
       "<div>\n",
       "<style scoped>\n",
       "    .dataframe tbody tr th:only-of-type {\n",
       "        vertical-align: middle;\n",
       "    }\n",
       "\n",
       "    .dataframe tbody tr th {\n",
       "        vertical-align: top;\n",
       "    }\n",
       "\n",
       "    .dataframe thead th {\n",
       "        text-align: right;\n",
       "    }\n",
       "</style>\n",
       "<table border=\"1\" class=\"dataframe\">\n",
       "  <thead>\n",
       "    <tr style=\"text-align: right;\">\n",
       "      <th></th>\n",
       "      <th>userId</th>\n",
       "      <th>movieId</th>\n",
       "      <th>rating</th>\n",
       "      <th>timestamp</th>\n",
       "    </tr>\n",
       "  </thead>\n",
       "  <tbody>\n",
       "    <tr>\n",
       "      <th>0</th>\n",
       "      <td>1</td>\n",
       "      <td>1</td>\n",
       "      <td>4.0</td>\n",
       "      <td>964982703</td>\n",
       "    </tr>\n",
       "    <tr>\n",
       "      <th>1</th>\n",
       "      <td>1</td>\n",
       "      <td>3</td>\n",
       "      <td>4.0</td>\n",
       "      <td>964981247</td>\n",
       "    </tr>\n",
       "    <tr>\n",
       "      <th>2</th>\n",
       "      <td>1</td>\n",
       "      <td>6</td>\n",
       "      <td>4.0</td>\n",
       "      <td>964982224</td>\n",
       "    </tr>\n",
       "    <tr>\n",
       "      <th>3</th>\n",
       "      <td>1</td>\n",
       "      <td>47</td>\n",
       "      <td>5.0</td>\n",
       "      <td>964983815</td>\n",
       "    </tr>\n",
       "    <tr>\n",
       "      <th>4</th>\n",
       "      <td>1</td>\n",
       "      <td>50</td>\n",
       "      <td>5.0</td>\n",
       "      <td>964982931</td>\n",
       "    </tr>\n",
       "  </tbody>\n",
       "</table>\n",
       "</div>"
      ],
      "text/plain": [
       "   userId  movieId  rating  timestamp\n",
       "0       1        1     4.0  964982703\n",
       "1       1        3     4.0  964981247\n",
       "2       1        6     4.0  964982224\n",
       "3       1       47     5.0  964983815\n",
       "4       1       50     5.0  964982931"
      ]
     },
     "execution_count": 112,
     "metadata": {},
     "output_type": "execute_result"
    }
   ],
   "source": [
    "rating.head()"
   ]
  },
  {
   "cell_type": "code",
   "execution_count": 113,
   "id": "9dea597d",
   "metadata": {},
   "outputs": [],
   "source": [
    "links=pd.read_csv(r\"C:\\Users\\DELL\\Downloads\\ml\\links.csv\")"
   ]
  },
  {
   "cell_type": "code",
   "execution_count": 115,
   "id": "770dfa2a",
   "metadata": {},
   "outputs": [],
   "source": [
    "# Assuming movies.csv has 'movieId' and 'imdb_rating'\n",
    "# links.csv has 'movieId' and 'imdb_id'\n",
    "\n",
    "# Merge movies with links to get IMDb ratings associated with each movieId\n",
    "merged_data = pd.merge(links, movieId, on='movieId')\n"
   ]
  },
  {
   "cell_type": "code",
   "execution_count": 118,
   "id": "7ea7cf7f",
   "metadata": {},
   "outputs": [],
   "source": [
    "# Find the highest IMDb rating\n",
    "highest_imdb_rating = merged_data['imdbId'].max()"
   ]
  },
  {
   "cell_type": "code",
   "execution_count": 119,
   "id": "d16dfb86",
   "metadata": {},
   "outputs": [
    {
     "data": {
      "text/html": [
       "<div>\n",
       "<style scoped>\n",
       "    .dataframe tbody tr th:only-of-type {\n",
       "        vertical-align: middle;\n",
       "    }\n",
       "\n",
       "    .dataframe tbody tr th {\n",
       "        vertical-align: top;\n",
       "    }\n",
       "\n",
       "    .dataframe thead th {\n",
       "        text-align: right;\n",
       "    }\n",
       "</style>\n",
       "<table border=\"1\" class=\"dataframe\">\n",
       "  <thead>\n",
       "    <tr style=\"text-align: right;\">\n",
       "      <th></th>\n",
       "      <th>movieId</th>\n",
       "      <th>imdbId</th>\n",
       "      <th>tmdbId</th>\n",
       "    </tr>\n",
       "  </thead>\n",
       "  <tbody>\n",
       "    <tr>\n",
       "      <th>0</th>\n",
       "      <td>1</td>\n",
       "      <td>114709</td>\n",
       "      <td>862.0</td>\n",
       "    </tr>\n",
       "    <tr>\n",
       "      <th>1</th>\n",
       "      <td>2</td>\n",
       "      <td>113497</td>\n",
       "      <td>8844.0</td>\n",
       "    </tr>\n",
       "    <tr>\n",
       "      <th>2</th>\n",
       "      <td>3</td>\n",
       "      <td>113228</td>\n",
       "      <td>15602.0</td>\n",
       "    </tr>\n",
       "    <tr>\n",
       "      <th>3</th>\n",
       "      <td>4</td>\n",
       "      <td>114885</td>\n",
       "      <td>31357.0</td>\n",
       "    </tr>\n",
       "    <tr>\n",
       "      <th>4</th>\n",
       "      <td>5</td>\n",
       "      <td>113041</td>\n",
       "      <td>11862.0</td>\n",
       "    </tr>\n",
       "  </tbody>\n",
       "</table>\n",
       "</div>"
      ],
      "text/plain": [
       "   movieId  imdbId   tmdbId\n",
       "0        1  114709    862.0\n",
       "1        2  113497   8844.0\n",
       "2        3  113228  15602.0\n",
       "3        4  114885  31357.0\n",
       "4        5  113041  11862.0"
      ]
     },
     "execution_count": 119,
     "metadata": {},
     "output_type": "execute_result"
    }
   ],
   "source": [
    "links.head()"
   ]
  },
  {
   "cell_type": "code",
   "execution_count": 120,
   "id": "30b5897a",
   "metadata": {},
   "outputs": [
    {
     "name": "stdout",
     "output_type": "stream",
     "text": [
      "The movieId with the highest IMDb rating is: 193587\n"
     ]
    }
   ],
   "source": [
    "# Get the movieId with the highest IMDb rating\n",
    "highest_rated_movie = merged_data[merged_data['imdbId'] == highest_imdb_rating]\n",
    "\n",
    "# Retrieve the movieId\n",
    "highest_rated_movie_id = highest_rated_movie['movieId'].iloc[0]\n",
    "\n",
    "print(f\"The movieId with the highest IMDb rating is: {highest_rated_movie_id}\")\n"
   ]
  },
  {
   "cell_type": "code",
   "execution_count": 121,
   "id": "8ffbc478",
   "metadata": {},
   "outputs": [],
   "source": [
    "# Merge datasets on 'movieId'\n",
    "merged_data = pd.merge(links, movieId, on='movieId')\n"
   ]
  },
  {
   "cell_type": "code",
   "execution_count": 122,
   "id": "262dba72",
   "metadata": {},
   "outputs": [],
   "source": [
    "# Filter for Sci-Fi genre\n",
    "sci_fi_movies = merged_data[merged_data['genres'].str.contains('Sci-Fi')]\n"
   ]
  },
  {
   "cell_type": "code",
   "execution_count": 124,
   "id": "7ca75266",
   "metadata": {},
   "outputs": [
    {
     "name": "stdout",
     "output_type": "stream",
     "text": [
      "The movieId of the Sci-Fi movie with the highest IMDb rating is: 179053\n"
     ]
    }
   ],
   "source": [
    "# Find the Sci-Fi movie with the highest IMDb rating\n",
    "highest_imdb_rating_sci_fi = sci_fi_movies['imdbId'].max()\n",
    "\n",
    "# Get the movieId of the highest-rated Sci-Fi movie\n",
    "highest_rated_sci_fi_movie = sci_fi_movies[sci_fi_movies['imdbId'] == highest_imdb_rating_sci_fi]\n",
    "highest_rated_sci_fi_movie_id = highest_rated_sci_fi_movie['movieId'].iloc[0]\n",
    "\n",
    "print(f\"The movieId of the Sci-Fi movie with the highest IMDb rating is: {highest_rated_sci_fi_movie_id}\")\n"
   ]
  },
  {
   "cell_type": "code",
   "execution_count": null,
   "id": "c2a51630",
   "metadata": {},
   "outputs": [],
   "source": []
  }
 ],
 "metadata": {
  "kernelspec": {
   "display_name": "Python 3 (ipykernel)",
   "language": "python",
   "name": "python3"
  },
  "language_info": {
   "codemirror_mode": {
    "name": "ipython",
    "version": 3
   },
   "file_extension": ".py",
   "mimetype": "text/x-python",
   "name": "python",
   "nbconvert_exporter": "python",
   "pygments_lexer": "ipython3",
   "version": "3.11.5"
  }
 },
 "nbformat": 4,
 "nbformat_minor": 5
}
